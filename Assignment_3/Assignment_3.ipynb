{
 "cells": [
  {
   "cell_type": "code",
   "execution_count": 3,
   "metadata": {},
   "outputs": [],
   "source": [
    "#Question 1\n",
    "ab=2/36\n",
    "a=11/36\n",
    "b=6/36"
   ]
  },
  {
   "cell_type": "code",
   "execution_count": 4,
   "metadata": {},
   "outputs": [
    {
     "name": "stdout",
     "output_type": "stream",
     "text": [
      "P(B|A)= 0.0303030303030303\n"
     ]
    }
   ],
   "source": [
    "def fun(a,b,ab):\n",
    "    x=b*ab\n",
    "    rg=x/a\n",
    "    print(\"P(B|A)=\",rg)\n",
    "fun(a,b,ab)\n"
   ]
  },
  {
   "cell_type": "code",
   "execution_count": 5,
   "metadata": {},
   "outputs": [
    {
     "name": "stdout",
     "output_type": "stream",
     "text": [
      "P(b1) probablity that ball drawn is from bag 1  0.5833333333333334\n"
     ]
    }
   ],
   "source": [
    "#Question 2\n",
    "w=4\n",
    "b=6\n",
    "w1=4\n",
    "b1=3\n",
    "pb1=1/2\n",
    "pb2=1/2 \n",
    "b22=3/7 \n",
    "b11=6/10 \n",
    "\n",
    "# since drawn ball is black,to find it is of 1st bag\n",
    "pb=(b11*pb1)/((pb1*b11)+(pb2*b22))\n",
    "print(\"P(b1) probablity that ball drawn is from bag 1 \",pb)"
   ]
  },
  {
   "cell_type": "code",
   "execution_count": 7,
   "metadata": {},
   "outputs": [
    {
     "name": "stdout",
     "output_type": "stream",
     "text": [
      "P(4) probablity that no. obtained is actually 4 is  0.2857142857142857\n"
     ]
    }
   ],
   "source": [
    "#Question3 using bayes theoram\n",
    "p5=1/6\n",
    "pn4=5/6\n",
    "pt=2/3\n",
    "pnt=1/3\n",
    "Pt=(p5*pt)/((p5*pt)+(pn4*pnt))\n",
    "print(\"P(4) probablity that no. obtained is actually 4 is \",Pt)"
   ]
  },
  {
   "cell_type": "code",
   "execution_count": null,
   "metadata": {},
   "outputs": [],
   "source": []
  }
 ],
 "metadata": {
  "kernelspec": {
   "display_name": "Python 3",
   "language": "python",
   "name": "python3"
  },
  "language_info": {
   "codemirror_mode": {
    "name": "ipython",
    "version": 3
   },
   "file_extension": ".py",
   "mimetype": "text/x-python",
   "name": "python",
   "nbconvert_exporter": "python",
   "pygments_lexer": "ipython3",
   "version": "3.7.1"
  }
 },
 "nbformat": 4,
 "nbformat_minor": 2
}
